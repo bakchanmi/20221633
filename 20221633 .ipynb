{
  "nbformat": 4,
  "nbformat_minor": 0,
  "metadata": {
    "colab": {
      "provenance": []
    },
    "kernelspec": {
      "name": "python3",
      "display_name": "Python 3"
    },
    "language_info": {
      "name": "python"
    }
  },
  "cells": [
    {
      "cell_type": "code",
      "execution_count": null,
      "metadata": {
        "id": "PP94bzDdFm4v"
      },
      "outputs": [],
      "source": []
    },
    {
      "cell_type": "markdown",
      "source": [
        "## 1. LeetCode 225. Implement Stack using Queues"
      ],
      "metadata": {
        "id": "7Yz8wfTiH1Wi"
      }
    },
    {
      "cell_type": "code",
      "source": [
        "from collections import deque\n",
        "\n",
        "class MyStack:\n",
        "\n",
        "    def __init__(self):\n",
        "        self.q = deque()\n",
        "\n",
        "    def push(self, x: int) -> None:\n",
        "        self.q.append(x)\n",
        "        for _ in range(len(self.q) - 1):\n",
        "            self.q.append(self.q.popleft())\n",
        "\n",
        "    def pop(self) -> int:\n",
        "        return self.q.popleft()\n",
        "\n",
        "    def top(self) -> int:\n",
        "        return self.q[0]\n",
        "\n",
        "    def empty(self) -> bool:\n",
        "        return not self.q"
      ],
      "metadata": {
        "id": "YPvLru2FH58X"
      },
      "execution_count": null,
      "outputs": []
    },
    {
      "cell_type": "markdown",
      "source": [
        "## 2. LeetCode 232. Implement Queue using Stacks"
      ],
      "metadata": {
        "id": "AqZqcyVHr9bI"
      }
    },
    {
      "cell_type": "code",
      "source": [
        "class MyQueue:\n",
        "\n",
        "    def __init__(self):\n",
        "        self.stack1 = []\n",
        "        self.stack2 = []\n",
        "\n",
        "    def push(self, x: int) -> None:\n",
        "        self.stack1.append(x)\n",
        "\n",
        "    def pop(self) -> int:\n",
        "        self.peek()\n",
        "        return self.stack2.pop()\n",
        "\n",
        "    def peek(self) -> int:\n",
        "        if not self.stack2:\n",
        "            while self.stack1:\n",
        "                self.stack2.append(self.stack1.pop())\n",
        "        return self.stack2[-1]\n",
        "\n",
        "    def empty(self) -> bool:\n",
        "        return not self.stack1 and not self.stack2"
      ],
      "metadata": {
        "id": "kyvAIWKPsByP"
      },
      "execution_count": null,
      "outputs": []
    },
    {
      "cell_type": "markdown",
      "source": [
        "## 3. 큐 연습문제"
      ],
      "metadata": {
        "id": "PQmwHQubu2Jd"
      }
    },
    {
      "cell_type": "markdown",
      "source": [
        "#### 1."
      ],
      "metadata": {
        "id": "1md8tATlxjid"
      }
    },
    {
      "cell_type": "code",
      "source": [
        "def enqueue(self, x):\n",
        "    self.__queue.insert(0, x)\n",
        "\n",
        "def dequeue(self):\n",
        "    return self.__queue.pop()\n",
        "\n",
        "def front(self):\n",
        "    return self.__queue[-1]"
      ],
      "metadata": {
        "id": "bdGJFJcKxmGg"
      },
      "execution_count": null,
      "outputs": []
    },
    {
      "cell_type": "markdown",
      "source": [
        "#### 2."
      ],
      "metadata": {
        "id": "DRh-X8Gpxtil"
      }
    },
    {
      "cell_type": "code",
      "source": [
        "def is_in_language(s):\n",
        "    from collections import deque\n",
        "    q1 = deque()\n",
        "    q2 = deque()\n",
        "\n",
        "    if '$' not in s:\n",
        "        return False\n",
        "\n",
        "    w, w_rev = s.split('$')\n",
        "    for ch in w:\n",
        "        q1.append(ch)\n",
        "    for ch in w_rev:\n",
        "        q2.append(ch)\n",
        "\n",
        "    while q1 and q2:\n",
        "        if q1.popleft() != q2.pop():\n",
        "            return False\n",
        "\n",
        "    return not q1 and not q2\n"
      ],
      "metadata": {
        "id": "YxgCkAgfxvVw"
      },
      "execution_count": null,
      "outputs": []
    },
    {
      "cell_type": "markdown",
      "source": [
        "#### 3."
      ],
      "metadata": {
        "id": "9Hf7Zbpoxzd2"
      }
    },
    {
      "cell_type": "code",
      "source": [
        "def copyLinkedQueue(a):\n",
        "    b = LinkedQueue()\n",
        "    cur = a.front\n",
        "    while cur is not None:\n",
        "        b.enqueue(cur.data)\n",
        "        cur = cur.link\n",
        "    return b"
      ],
      "metadata": {
        "id": "GtA6oLkax09k"
      },
      "execution_count": null,
      "outputs": []
    },
    {
      "cell_type": "markdown",
      "source": [
        "#### 4."
      ],
      "metadata": {
        "id": "YNkLQqmqx3mT"
      }
    },
    {
      "cell_type": "code",
      "source": [
        "from collections import deque\n",
        "\n",
        "class StackWithQueues:\n",
        "    def __init__(self):\n",
        "        self.q1 = deque()\n",
        "        self.q2 = deque()\n",
        "\n",
        "    def push(self, x):\n",
        "        self.q1.append(x)\n",
        "\n",
        "    def pop(self):\n",
        "        while len(self.q1) > 1:\n",
        "            self.q2.append(self.q1.popleft())\n",
        "        result = self.q1.popleft()\n",
        "        self.q1, self.q2 = self.q2, self.q1\n",
        "        return result"
      ],
      "metadata": {
        "id": "Y5ad5Ogbx4oa"
      },
      "execution_count": null,
      "outputs": []
    },
    {
      "cell_type": "markdown",
      "source": [
        "#### 5."
      ],
      "metadata": {
        "id": "D7tP19zTx7aX"
      }
    },
    {
      "cell_type": "code",
      "source": [
        "class QueueWithStacks:\n",
        "    def __init__(self):\n",
        "        self.s1 = []\n",
        "        self.s2 = []\n",
        "\n",
        "    def enqueue(self, x):\n",
        "        self.s1.append(x)\n",
        "\n",
        "    def dequeue(self):\n",
        "        while self.s1:\n",
        "            self.s2.append(self.s1.pop())\n",
        "        result = self.s2.pop()\n",
        "        while self.s2:\n",
        "            self.s1.append(self.s2.pop())\n",
        "        return result"
      ],
      "metadata": {
        "id": "elcbm1Amx8yS"
      },
      "execution_count": null,
      "outputs": []
    },
    {
      "cell_type": "markdown",
      "source": [
        "#### 6."
      ],
      "metadata": {
        "id": "Em7OKSCGyUIL"
      }
    },
    {
      "cell_type": "markdown",
      "source": [
        "enqueue(): O(1)\n",
        "\n",
        "dequeue(): O(1)\n",
        "\n",
        "이중 연결 리스트 기반 Deque이기 때문이다."
      ],
      "metadata": {
        "id": "3EO6sK51yaFg"
      }
    },
    {
      "cell_type": "markdown",
      "source": [
        "#### 7."
      ],
      "metadata": {
        "id": "2LMw9s2uyv0W"
      }
    },
    {
      "cell_type": "markdown",
      "source": [
        "enqueue(): O(1)\n",
        "\n",
        "dequeue(): O(n)"
      ],
      "metadata": {
        "id": "x3gO7LPmyyq4"
      }
    },
    {
      "cell_type": "markdown",
      "source": [
        "#### 8."
      ],
      "metadata": {
        "id": "3WbUOOQzy4gE"
      }
    },
    {
      "cell_type": "code",
      "source": [
        "class Deque:\n",
        "    def __init__(self):\n",
        "        self.__queue = []\n",
        "\n",
        "    def enqueueRear(self, x):\n",
        "        self.__queue.append(x)\n",
        "\n",
        "    def enqueueFront(self, x):\n",
        "        self.__queue.insert(0, x)\n",
        "\n",
        "    def dequeueFront(self):\n",
        "        return self.__queue.pop(0)\n",
        "\n",
        "    def dequeueRear(self):\n",
        "        return self.__queue.pop()\n",
        "\n",
        "    def front(self):\n",
        "        if self.isEmpty():\n",
        "            return None\n",
        "        return self.__queue[0]\n",
        "\n",
        "    def rear(self):\n",
        "        if self.isEmpty():\n",
        "            return None\n",
        "        return self.__queue[-1]\n",
        "\n",
        "    def isEmpty(self) -> bool:\n",
        "        return len(self.__queue) == 0\n",
        "\n",
        "    def dequeueAll(self):\n",
        "        self.__queue.clear()\n",
        "\n",
        "    def printDeque(self):\n",
        "        print(\"Deque from front:\", end=' ')\n",
        "        for item in self.__queue:\n",
        "            print(item, end=' ')\n",
        "        print()"
      ],
      "metadata": {
        "id": "sx8vOJvVzLV1"
      },
      "execution_count": null,
      "outputs": []
    }
  ]
}